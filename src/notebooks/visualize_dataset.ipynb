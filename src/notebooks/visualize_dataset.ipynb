{
 "cells": [
  {
   "cell_type": "code",
   "execution_count": 2,
   "metadata": {},
   "outputs": [],
   "source": [
    "import sys, os\n",
    "sys.path.append(os.path.dirname(os.getcwd())) # Include ../SSD in path\n",
    "import numpy as np\n",
    "import torch\n",
    "import matplotlib.pyplot as plt\n",
    "from vizer.draw import draw_boxes\n",
    "from tops.config import instantiate, LazyConfig\n",
    "from ssd import utils\n",
    "np.random.seed(0)\n"
   ]
  },
  {
   "cell_type": "code",
   "execution_count": 3,
   "metadata": {},
   "outputs": [
    {
     "name": "stdout",
     "output_type": "stream",
     "text": [
      "data -> ../data\n"
     ]
    }
   ],
   "source": [
    "! ln -sv ../data data"
   ]
  },
  {
   "cell_type": "code",
   "execution_count": 6,
   "metadata": {},
   "outputs": [
    {
     "name": "stdout",
     "output_type": "stream",
     "text": [
      "Saving SSD outputs to: outputs/\n"
     ]
    },
    {
     "ename": "FileExistsError",
     "evalue": "[Errno 17] File exists: 'data'",
     "output_type": "error",
     "traceback": [
      "\u001b[0;31m---------------------------------------------------------------------------\u001b[0m",
      "\u001b[0;31mFileNotFoundError\u001b[0m                         Traceback (most recent call last)",
      "File \u001b[0;32m~/miniconda3/envs/tdt4265/lib/python3.8/pathlib.py:1288\u001b[0m, in \u001b[0;36mPath.mkdir\u001b[0;34m(self, mode, parents, exist_ok)\u001b[0m\n\u001b[1;32m   1287\u001b[0m \u001b[39mtry\u001b[39;00m:\n\u001b[0;32m-> 1288\u001b[0m     \u001b[39mself\u001b[39;49m\u001b[39m.\u001b[39;49m_accessor\u001b[39m.\u001b[39;49mmkdir(\u001b[39mself\u001b[39;49m, mode)\n\u001b[1;32m   1289\u001b[0m \u001b[39mexcept\u001b[39;00m \u001b[39mFileNotFoundError\u001b[39;00m:\n",
      "\u001b[0;31mFileNotFoundError\u001b[0m: [Errno 2] No such file or directory: 'data/original_mnist'",
      "\nDuring handling of the above exception, another exception occurred:\n",
      "\u001b[0;31mFileExistsError\u001b[0m                           Traceback (most recent call last)",
      "Cell \u001b[0;32mIn[6], line 12\u001b[0m\n\u001b[1;32m     10\u001b[0m     \u001b[39melse\u001b[39;00m:\n\u001b[1;32m     11\u001b[0m         cfg\u001b[39m.\u001b[39mdata_train\u001b[39m.\u001b[39mdataset\u001b[39m.\u001b[39mtransform\u001b[39m.\u001b[39mtransforms \u001b[39m=\u001b[39m cfg\u001b[39m.\u001b[39mdata_train\u001b[39m.\u001b[39mdataset\u001b[39m.\u001b[39mtransform\u001b[39m.\u001b[39mtransforms[:\u001b[39m-\u001b[39m\u001b[39m1\u001b[39m]\n\u001b[0;32m---> 12\u001b[0m     dataset \u001b[39m=\u001b[39m instantiate(cfg\u001b[39m.\u001b[39;49mdata_train\u001b[39m.\u001b[39;49mdataloader)\n\u001b[1;32m     13\u001b[0m     gpu_transform \u001b[39m=\u001b[39m instantiate(cfg\u001b[39m.\u001b[39mdata_train\u001b[39m.\u001b[39mgpu_transform)\n\u001b[1;32m     14\u001b[0m \u001b[39melse\u001b[39;00m:\n",
      "File \u001b[0;32m~/Documents/Trondheim/4. semester/TDT4265/TDT4265_project/src/tops/config/instantiate.py:60\u001b[0m, in \u001b[0;36minstantiate\u001b[0;34m(cfg, **kwargs)\u001b[0m\n\u001b[1;32m     55\u001b[0m     \u001b[39mreturn\u001b[39;00m [instantiate(x, \u001b[39m*\u001b[39m\u001b[39m*\u001b[39mkwargs) \u001b[39mfor\u001b[39;00m x \u001b[39min\u001b[39;00m cfg]\n\u001b[1;32m     57\u001b[0m \u001b[39mif\u001b[39;00m \u001b[39misinstance\u001b[39m(cfg, abc\u001b[39m.\u001b[39mMapping) \u001b[39mand\u001b[39;00m \u001b[39m\"\u001b[39m\u001b[39m_target_\u001b[39m\u001b[39m\"\u001b[39m \u001b[39min\u001b[39;00m cfg:\n\u001b[1;32m     58\u001b[0m     \u001b[39m# conceptually equivalent to hydra.utils.instantiate(cfg) with _convert_=all,\u001b[39;00m\n\u001b[1;32m     59\u001b[0m     \u001b[39m# but faster: https://github.com/facebookresearch/hydra/issues/1200\u001b[39;00m\n\u001b[0;32m---> 60\u001b[0m     cfg \u001b[39m=\u001b[39m {k: instantiate(v) \u001b[39mfor\u001b[39;00m k, v \u001b[39min\u001b[39;00m cfg\u001b[39m.\u001b[39mitems()}\n\u001b[1;32m     61\u001b[0m     \u001b[39mcls\u001b[39m \u001b[39m=\u001b[39m cfg\u001b[39m.\u001b[39mpop(\u001b[39m\"\u001b[39m\u001b[39m_target_\u001b[39m\u001b[39m\"\u001b[39m)\n\u001b[1;32m     62\u001b[0m     \u001b[39mcls\u001b[39m \u001b[39m=\u001b[39m instantiate(\u001b[39mcls\u001b[39m)\n",
      "File \u001b[0;32m~/Documents/Trondheim/4. semester/TDT4265/TDT4265_project/src/tops/config/instantiate.py:60\u001b[0m, in \u001b[0;36m<dictcomp>\u001b[0;34m(.0)\u001b[0m\n\u001b[1;32m     55\u001b[0m     \u001b[39mreturn\u001b[39;00m [instantiate(x, \u001b[39m*\u001b[39m\u001b[39m*\u001b[39mkwargs) \u001b[39mfor\u001b[39;00m x \u001b[39min\u001b[39;00m cfg]\n\u001b[1;32m     57\u001b[0m \u001b[39mif\u001b[39;00m \u001b[39misinstance\u001b[39m(cfg, abc\u001b[39m.\u001b[39mMapping) \u001b[39mand\u001b[39;00m \u001b[39m\"\u001b[39m\u001b[39m_target_\u001b[39m\u001b[39m\"\u001b[39m \u001b[39min\u001b[39;00m cfg:\n\u001b[1;32m     58\u001b[0m     \u001b[39m# conceptually equivalent to hydra.utils.instantiate(cfg) with _convert_=all,\u001b[39;00m\n\u001b[1;32m     59\u001b[0m     \u001b[39m# but faster: https://github.com/facebookresearch/hydra/issues/1200\u001b[39;00m\n\u001b[0;32m---> 60\u001b[0m     cfg \u001b[39m=\u001b[39m {k: instantiate(v) \u001b[39mfor\u001b[39;00m k, v \u001b[39min\u001b[39;00m cfg\u001b[39m.\u001b[39mitems()}\n\u001b[1;32m     61\u001b[0m     \u001b[39mcls\u001b[39m \u001b[39m=\u001b[39m cfg\u001b[39m.\u001b[39mpop(\u001b[39m\"\u001b[39m\u001b[39m_target_\u001b[39m\u001b[39m\"\u001b[39m)\n\u001b[1;32m     62\u001b[0m     \u001b[39mcls\u001b[39m \u001b[39m=\u001b[39m instantiate(\u001b[39mcls\u001b[39m)\n",
      "File \u001b[0;32m~/Documents/Trondheim/4. semester/TDT4265/TDT4265_project/src/tops/config/instantiate.py:76\u001b[0m, in \u001b[0;36minstantiate\u001b[0;34m(cfg, **kwargs)\u001b[0m\n\u001b[1;32m     74\u001b[0m \u001b[39massert\u001b[39;00m callable(\u001b[39mcls\u001b[39m), \u001b[39mf\u001b[39m\u001b[39m\"\u001b[39m\u001b[39m_target_ \u001b[39m\u001b[39m{\u001b[39;00m\u001b[39mcls\u001b[39m\u001b[39m}\u001b[39;00m\u001b[39m does not define a callable object\u001b[39m\u001b[39m\"\u001b[39m\n\u001b[1;32m     75\u001b[0m \u001b[39mtry\u001b[39;00m:\n\u001b[0;32m---> 76\u001b[0m     \u001b[39mreturn\u001b[39;00m \u001b[39mcls\u001b[39;49m(\u001b[39m*\u001b[39;49m\u001b[39m*\u001b[39;49mcfg, \u001b[39m*\u001b[39;49m\u001b[39m*\u001b[39;49mkwargs)\n\u001b[1;32m     77\u001b[0m \u001b[39mexcept\u001b[39;00m \u001b[39mTypeError\u001b[39;00m:\n\u001b[1;32m     78\u001b[0m     logger \u001b[39m=\u001b[39m logging\u001b[39m.\u001b[39mgetLogger(\u001b[39m__name__\u001b[39m)\n",
      "File \u001b[0;32m~/Documents/Trondheim/4. semester/TDT4265/TDT4265_project/src/ssd/data/mnist.py:16\u001b[0m, in \u001b[0;36mMNISTDetectionDataset.__init__\u001b[0;34m(self, data_dir, is_train, transform)\u001b[0m\n\u001b[1;32m     14\u001b[0m data_dir \u001b[39m=\u001b[39m pathlib\u001b[39m.\u001b[39mPath(data_dir)\n\u001b[1;32m     15\u001b[0m \u001b[39mself\u001b[39m\u001b[39m.\u001b[39mtransform \u001b[39m=\u001b[39m transform\n\u001b[0;32m---> 16\u001b[0m \u001b[39mself\u001b[39m\u001b[39m.\u001b[39mimages, labels, boxes_ltrb \u001b[39m=\u001b[39m load_dataset(data_dir, is_train)\n\u001b[1;32m     17\u001b[0m \u001b[39mself\u001b[39m\u001b[39m.\u001b[39mboxes_ltrb \u001b[39m=\u001b[39m boxes_ltrb\n\u001b[1;32m     18\u001b[0m \u001b[39mself\u001b[39m\u001b[39m.\u001b[39mtransform \u001b[39m=\u001b[39m transform\n",
      "File \u001b[0;32m~/Documents/Trondheim/4. semester/TDT4265/TDT4265_project/src/ssd/data/mnist_object_detection/mnist_object_detection.py:108\u001b[0m, in \u001b[0;36mload_dataset\u001b[0;34m(dirpath, is_train, max_digit_size, min_digit_size, imsize, max_digits_per_image)\u001b[0m\n\u001b[1;32m    101\u001b[0m \u001b[39mdef\u001b[39;00m \u001b[39mload_dataset\u001b[39m(dirpath: pathlib\u001b[39m.\u001b[39mPath,\n\u001b[1;32m    102\u001b[0m                  is_train: \u001b[39mbool\u001b[39m,\n\u001b[1;32m    103\u001b[0m                  max_digit_size: \u001b[39mint\u001b[39m \u001b[39m=\u001b[39m \u001b[39m100\u001b[39m,\n\u001b[1;32m    104\u001b[0m                  min_digit_size: \u001b[39mint\u001b[39m \u001b[39m=\u001b[39m \u001b[39m15\u001b[39m,\n\u001b[1;32m    105\u001b[0m                  imsize: \u001b[39mint\u001b[39m \u001b[39m=\u001b[39m\u001b[39m300\u001b[39m,\n\u001b[1;32m    106\u001b[0m                  max_digits_per_image: \u001b[39mint\u001b[39m \u001b[39m=\u001b[39m \u001b[39m20\u001b[39m):\n\u001b[1;32m    107\u001b[0m     num_images \u001b[39m=\u001b[39m \u001b[39m10000\u001b[39m \u001b[39mif\u001b[39;00m is_train \u001b[39melse\u001b[39;00m \u001b[39m1000\u001b[39m\n\u001b[0;32m--> 108\u001b[0m     X_train, Y_train, X_test, Y_test \u001b[39m=\u001b[39m mnist\u001b[39m.\u001b[39;49mload()\n\u001b[1;32m    109\u001b[0m     X, Y \u001b[39m=\u001b[39m X_train, Y_train\n\u001b[1;32m    110\u001b[0m     \u001b[39mif\u001b[39;00m \u001b[39mnot\u001b[39;00m is_train:\n",
      "File \u001b[0;32m~/Documents/Trondheim/4. semester/TDT4265/TDT4265_project/src/ssd/data/mnist_object_detection/mnist.py:51\u001b[0m, in \u001b[0;36mload\u001b[0;34m()\u001b[0m\n\u001b[1;32m     50\u001b[0m \u001b[39mdef\u001b[39;00m \u001b[39mload\u001b[39m():\n\u001b[0;32m---> 51\u001b[0m     download_mnist()\n\u001b[1;32m     52\u001b[0m     extract_mnist()\n\u001b[1;32m     53\u001b[0m     dataset_path \u001b[39m=\u001b[39m SAVE_PATH\u001b[39m.\u001b[39mjoinpath(\u001b[39m\"\u001b[39m\u001b[39mmnist.pkl\u001b[39m\u001b[39m\"\u001b[39m)\n",
      "File \u001b[0;32m~/Documents/Trondheim/4. semester/TDT4265/TDT4265_project/src/ssd/data/mnist_object_detection/mnist.py:18\u001b[0m, in \u001b[0;36mdownload_mnist\u001b[0;34m()\u001b[0m\n\u001b[1;32m     17\u001b[0m \u001b[39mdef\u001b[39;00m \u001b[39mdownload_mnist\u001b[39m():\n\u001b[0;32m---> 18\u001b[0m     SAVE_PATH\u001b[39m.\u001b[39;49mmkdir(exist_ok\u001b[39m=\u001b[39;49m\u001b[39mTrue\u001b[39;49;00m, parents\u001b[39m=\u001b[39;49m\u001b[39mTrue\u001b[39;49;00m)\n\u001b[1;32m     19\u001b[0m     base_url \u001b[39m=\u001b[39m \u001b[39m\"\u001b[39m\u001b[39mhttp://yann.lecun.com/exdb/mnist/\u001b[39m\u001b[39m\"\u001b[39m\n\u001b[1;32m     20\u001b[0m     \u001b[39mfor\u001b[39;00m name \u001b[39min\u001b[39;00m filename:\n",
      "File \u001b[0;32m~/miniconda3/envs/tdt4265/lib/python3.8/pathlib.py:1292\u001b[0m, in \u001b[0;36mPath.mkdir\u001b[0;34m(self, mode, parents, exist_ok)\u001b[0m\n\u001b[1;32m   1290\u001b[0m     \u001b[39mif\u001b[39;00m \u001b[39mnot\u001b[39;00m parents \u001b[39mor\u001b[39;00m \u001b[39mself\u001b[39m\u001b[39m.\u001b[39mparent \u001b[39m==\u001b[39m \u001b[39mself\u001b[39m:\n\u001b[1;32m   1291\u001b[0m         \u001b[39mraise\u001b[39;00m\n\u001b[0;32m-> 1292\u001b[0m     \u001b[39mself\u001b[39;49m\u001b[39m.\u001b[39;49mparent\u001b[39m.\u001b[39;49mmkdir(parents\u001b[39m=\u001b[39;49m\u001b[39mTrue\u001b[39;49;00m, exist_ok\u001b[39m=\u001b[39;49m\u001b[39mTrue\u001b[39;49;00m)\n\u001b[1;32m   1293\u001b[0m     \u001b[39mself\u001b[39m\u001b[39m.\u001b[39mmkdir(mode, parents\u001b[39m=\u001b[39m\u001b[39mFalse\u001b[39;00m, exist_ok\u001b[39m=\u001b[39mexist_ok)\n\u001b[1;32m   1294\u001b[0m \u001b[39mexcept\u001b[39;00m \u001b[39mOSError\u001b[39;00m:\n\u001b[1;32m   1295\u001b[0m     \u001b[39m# Cannot rely on checking for EEXIST, since the operating system\u001b[39;00m\n\u001b[1;32m   1296\u001b[0m     \u001b[39m# could give priority to other errors like EACCES or EROFS\u001b[39;00m\n",
      "File \u001b[0;32m~/miniconda3/envs/tdt4265/lib/python3.8/pathlib.py:1288\u001b[0m, in \u001b[0;36mPath.mkdir\u001b[0;34m(self, mode, parents, exist_ok)\u001b[0m\n\u001b[1;32m   1286\u001b[0m     \u001b[39mself\u001b[39m\u001b[39m.\u001b[39m_raise_closed()\n\u001b[1;32m   1287\u001b[0m \u001b[39mtry\u001b[39;00m:\n\u001b[0;32m-> 1288\u001b[0m     \u001b[39mself\u001b[39;49m\u001b[39m.\u001b[39;49m_accessor\u001b[39m.\u001b[39;49mmkdir(\u001b[39mself\u001b[39;49m, mode)\n\u001b[1;32m   1289\u001b[0m \u001b[39mexcept\u001b[39;00m \u001b[39mFileNotFoundError\u001b[39;00m:\n\u001b[1;32m   1290\u001b[0m     \u001b[39mif\u001b[39;00m \u001b[39mnot\u001b[39;00m parents \u001b[39mor\u001b[39;00m \u001b[39mself\u001b[39m\u001b[39m.\u001b[39mparent \u001b[39m==\u001b[39m \u001b[39mself\u001b[39m:\n",
      "\u001b[0;31mFileExistsError\u001b[0m: [Errno 17] File exists: 'data'"
     ]
    }
   ],
   "source": [
    "config_path = \"../configs/ssd300.py\"\n",
    "cfg = LazyConfig.load(config_path)\n",
    "dataset_to_visualize = \"train\" # or \"val\"\n",
    "cfg.train.batch_size = 1\n",
    "if dataset_to_visualize == \"train\":\n",
    "    # Remove GroundTruthBoxesToAnchors transform\n",
    "    if cfg.data_train.dataset._target_ == torch.utils.data.ConcatDataset:\n",
    "        for dataset in cfg.data_train.dataset.datasets:\n",
    "            dataset.transform.transforms = dataset.transform.transforms[:-1]\n",
    "    else:\n",
    "        cfg.data_train.dataset.transform.transforms = cfg.data_train.dataset.transform.transforms[:-1]\n",
    "    dataset = instantiate(cfg.data_train.dataloader)\n",
    "    gpu_transform = instantiate(cfg.data_train.gpu_transform)\n",
    "else:\n",
    "    cfg.data_val.dataloader.collate_fn = utils.batch_collate\n",
    "    dataset = instantiate(cfg.data_val.dataloader) \n",
    "    gpu_transform = instantiate(cfg.data_val.gpu_transform)\n",
    "\n",
    "# Assumes that the first GPU transform is Normalize\n",
    "# If it fails, just change the index from 0.\n",
    "image_mean = torch.tensor(cfg.data_train.gpu_transform.transforms[0].mean).view(1, 3, 1, 1)\n",
    "image_std = torch.tensor(cfg.data_train.gpu_transform.transforms[0].std).view(1, 3, 1, 1)\n",
    "sample = next(iter(dataset))\n",
    "sample = gpu_transform(sample)"
   ]
  },
  {
   "cell_type": "code",
   "execution_count": 6,
   "metadata": {},
   "outputs": [
    {
     "name": "stdout",
     "output_type": "stream",
     "text": [
      "The first sample in the dataset has the following keys: dict_keys(['image', 'boxes', 'labels', 'width', 'height', 'image_id'])\n",
      "image: shape=torch.Size([1, 3, 300, 300])dtype=torch.float32\n",
      "boxes: shape=torch.Size([1, 5, 4])dtype=torch.float32\n",
      "labels: shape=torch.Size([1, 5])dtype=torch.int64\n",
      "width: shape=torch.Size([1])dtype=torch.int64\n",
      "height: shape=torch.Size([1])dtype=torch.int64\n",
      "image_id: shape=torch.Size([1])dtype=torch.int64\n"
     ]
    }
   ],
   "source": [
    "\n",
    "print(\"The first sample in the dataset has the following keys:\", sample.keys())\n",
    "for key, item in sample.items():\n",
    "    print(\n",
    "        key, \": shape=\", item.shape if hasattr(item, \"shape\") else \"\", \n",
    "        \"dtype=\", item.dtype if hasattr(item, \"dtype\") else type(item), sep=\"\")\n",
    "\n",
    "image = (sample[\"image\"] * image_std + image_mean)\n",
    "image = (image*255).byte()[0]\n",
    "boxes = sample[\"boxes\"][0]\n",
    "boxes[:, [0, 2]] *= image.shape[-1]\n",
    "boxes[:, [1, 3]] *= image.shape[-2]\n",
    "im = image.permute(1, 2, 0).cpu().numpy()\n",
    "im = draw_boxes(im, boxes.cpu().numpy(), sample[\"labels\"][0].cpu().numpy().tolist(), class_name_map=cfg.label_map)\n"
   ]
  },
  {
   "cell_type": "code",
   "execution_count": 13,
   "metadata": {},
   "outputs": [],
   "source": [
    "# uncomment if you get a user warning saying matplotlib is non-gui backend\n",
    "# import tkinter\n",
    "# import matplotlib\n",
    "# matplotlib.use('TkAgg')\n",
    "plt.figure(figsize=(30, 4))\n",
    "plt.imshow(im[:, :, 1])\n",
    "plt.show()"
   ]
  },
  {
   "cell_type": "code",
   "execution_count": null,
   "metadata": {},
   "outputs": [],
   "source": []
  }
 ],
 "metadata": {
  "kernelspec": {
   "display_name": "tdt4265",
   "language": "python",
   "name": "python3"
  },
  "language_info": {
   "codemirror_mode": {
    "name": "ipython",
    "version": 3
   },
   "file_extension": ".py",
   "mimetype": "text/x-python",
   "name": "python",
   "nbconvert_exporter": "python",
   "pygments_lexer": "ipython3",
   "version": "3.8.16"
  },
  "vscode": {
   "interpreter": {
    "hash": "636a7b4364975c2b327292c177fa03c0858534c2e147176a51ac1930b55bb9fd"
   }
  }
 },
 "nbformat": 4,
 "nbformat_minor": 4
}
